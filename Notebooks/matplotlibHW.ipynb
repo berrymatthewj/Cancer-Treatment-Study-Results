{
 "cells": [
  {
   "cell_type": "code",
   "execution_count": 1,
   "metadata": {},
   "outputs": [],
   "source": [
    "# Dependencies and Setup\n",
    "%matplotlib notebook\n",
    "import matplotlib.pyplot as plt\n",
    "import pandas as pd\n",
    "import scipy.stats as sts\n",
    "import os\n",
    "import numpy as np\n",
    "%matplotlib inline"
   ]
  },
  {
   "cell_type": "code",
   "execution_count": 6,
   "metadata": {},
   "outputs": [],
   "source": [
    "# Study data files\n",
    "mouse_metadata_path = os.path.join(\"..\",\"Resources\",\"Mouse_metadata.csv\")\n",
    "study_results_path = os.path.join(\"..\",\"Resources\",\"Study_results.csv\")"
   ]
  },
  {
   "cell_type": "code",
   "execution_count": 7,
   "metadata": {},
   "outputs": [],
   "source": [
    "# Read the mouse data and the study results\n",
    "mouse_metadata = pd.read_csv(mouse_metadata_path)\n",
    "study_results = pd.read_csv(study_results_path)"
   ]
  },
  {
   "cell_type": "code",
   "execution_count": 15,
   "metadata": {},
   "outputs": [
    {
     "data": {
      "text/html": [
       "<div>\n",
       "<style scoped>\n",
       "    .dataframe tbody tr th:only-of-type {\n",
       "        vertical-align: middle;\n",
       "    }\n",
       "\n",
       "    .dataframe tbody tr th {\n",
       "        vertical-align: top;\n",
       "    }\n",
       "\n",
       "    .dataframe thead th {\n",
       "        text-align: right;\n",
       "    }\n",
       "</style>\n",
       "<table border=\"1\" class=\"dataframe\">\n",
       "  <thead>\n",
       "    <tr style=\"text-align: right;\">\n",
       "      <th></th>\n",
       "      <th>Mouse ID</th>\n",
       "      <th>Drug Regimen</th>\n",
       "      <th>Sex</th>\n",
       "      <th>Age_months</th>\n",
       "      <th>Weight (g)</th>\n",
       "      <th>Timepoint</th>\n",
       "      <th>tumor_volume</th>\n",
       "      <th>Metastatic Sites</th>\n",
       "    </tr>\n",
       "  </thead>\n",
       "  <tbody>\n",
       "    <tr>\n",
       "      <th>0</th>\n",
       "      <td>k403</td>\n",
       "      <td>Ramicane</td>\n",
       "      <td>Male</td>\n",
       "      <td>21</td>\n",
       "      <td>16</td>\n",
       "      <td>0</td>\n",
       "      <td>45.000000</td>\n",
       "      <td>0</td>\n",
       "    </tr>\n",
       "    <tr>\n",
       "      <th>1</th>\n",
       "      <td>k403</td>\n",
       "      <td>Ramicane</td>\n",
       "      <td>Male</td>\n",
       "      <td>21</td>\n",
       "      <td>16</td>\n",
       "      <td>5</td>\n",
       "      <td>38.825898</td>\n",
       "      <td>0</td>\n",
       "    </tr>\n",
       "    <tr>\n",
       "      <th>2</th>\n",
       "      <td>k403</td>\n",
       "      <td>Ramicane</td>\n",
       "      <td>Male</td>\n",
       "      <td>21</td>\n",
       "      <td>16</td>\n",
       "      <td>10</td>\n",
       "      <td>35.014271</td>\n",
       "      <td>1</td>\n",
       "    </tr>\n",
       "    <tr>\n",
       "      <th>3</th>\n",
       "      <td>k403</td>\n",
       "      <td>Ramicane</td>\n",
       "      <td>Male</td>\n",
       "      <td>21</td>\n",
       "      <td>16</td>\n",
       "      <td>15</td>\n",
       "      <td>34.223992</td>\n",
       "      <td>1</td>\n",
       "    </tr>\n",
       "    <tr>\n",
       "      <th>4</th>\n",
       "      <td>k403</td>\n",
       "      <td>Ramicane</td>\n",
       "      <td>Male</td>\n",
       "      <td>21</td>\n",
       "      <td>16</td>\n",
       "      <td>20</td>\n",
       "      <td>32.997729</td>\n",
       "      <td>1</td>\n",
       "    </tr>\n",
       "  </tbody>\n",
       "</table>\n",
       "</div>"
      ],
      "text/plain": [
       "  Mouse ID Drug Regimen   Sex  Age_months  Weight (g)  Timepoint  \\\n",
       "0     k403     Ramicane  Male          21          16          0   \n",
       "1     k403     Ramicane  Male          21          16          5   \n",
       "2     k403     Ramicane  Male          21          16         10   \n",
       "3     k403     Ramicane  Male          21          16         15   \n",
       "4     k403     Ramicane  Male          21          16         20   \n",
       "\n",
       "   tumor_volume  Metastatic Sites  \n",
       "0     45.000000                 0  \n",
       "1     38.825898                 0  \n",
       "2     35.014271                 1  \n",
       "3     34.223992                 1  \n",
       "4     32.997729                 1  "
      ]
     },
     "execution_count": 15,
     "metadata": {},
     "output_type": "execute_result"
    }
   ],
   "source": [
    "# Combine the data into a single dataset\n",
    "df = pd.merge(mouse_metadata, study_results, how=\"left\", on=[\"Mouse ID\", \"Mouse ID\"])\n",
    "df = df.rename(columns={\"Tumor Volume (mm3)\":\"tumor_volume\"})\n",
    "# Display the data table for preview\n",
    "df.head()"
   ]
  },
  {
   "cell_type": "code",
   "execution_count": 9,
   "metadata": {},
   "outputs": [
    {
     "data": {
      "text/plain": [
       "249"
      ]
     },
     "execution_count": 9,
     "metadata": {},
     "output_type": "execute_result"
    }
   ],
   "source": [
    "# Calculate the number of mice.\n",
    "len(df[\"Mouse ID\"].unique())"
   ]
  },
  {
   "cell_type": "code",
   "execution_count": 10,
   "metadata": {},
   "outputs": [],
   "source": [
    "# Getting the duplicate mice by ID number that shows up for Mouse ID and Timepoint. \n",
    "# Check for duplicates and drop\n",
    "# Create a clean DataFrame by dropping the duplicate mouse by its ID.\n",
    "clean_df=df.drop_duplicates()"
   ]
  },
  {
   "cell_type": "code",
   "execution_count": 16,
   "metadata": {},
   "outputs": [
    {
     "data": {
      "text/plain": [
       "249"
      ]
     },
     "execution_count": 16,
     "metadata": {},
     "output_type": "execute_result"
    }
   ],
   "source": [
    "# Checking the number of mice in the clean DataFrame.\n",
    "len(clean_df[\"Mouse ID\"].unique())"
   ]
  },
  {
   "cell_type": "code",
   "execution_count": 17,
   "metadata": {},
   "outputs": [
    {
     "data": {
      "text/html": [
       "<div>\n",
       "<style scoped>\n",
       "    .dataframe tbody tr th:only-of-type {\n",
       "        vertical-align: middle;\n",
       "    }\n",
       "\n",
       "    .dataframe tbody tr th {\n",
       "        vertical-align: top;\n",
       "    }\n",
       "\n",
       "    .dataframe thead th {\n",
       "        text-align: right;\n",
       "    }\n",
       "</style>\n",
       "<table border=\"1\" class=\"dataframe\">\n",
       "  <thead>\n",
       "    <tr style=\"text-align: right;\">\n",
       "      <th></th>\n",
       "      <th>Mean Tumor Volume</th>\n",
       "      <th>Median Tumor Volume</th>\n",
       "      <th>Tumor Volume Variance</th>\n",
       "      <th>Tumor Volume Standard Deviation</th>\n",
       "      <th>Tumor Volume SEM</th>\n",
       "    </tr>\n",
       "    <tr>\n",
       "      <th>Drug Regimen</th>\n",
       "      <th></th>\n",
       "      <th></th>\n",
       "      <th></th>\n",
       "      <th></th>\n",
       "      <th></th>\n",
       "    </tr>\n",
       "  </thead>\n",
       "  <tbody>\n",
       "    <tr>\n",
       "      <th>Capomulin</th>\n",
       "      <td>40.675741</td>\n",
       "      <td>41.557809</td>\n",
       "      <td>24.947764</td>\n",
       "      <td>4.994774</td>\n",
       "      <td>0.329346</td>\n",
       "    </tr>\n",
       "    <tr>\n",
       "      <th>Ceftamin</th>\n",
       "      <td>52.591172</td>\n",
       "      <td>51.776157</td>\n",
       "      <td>39.290177</td>\n",
       "      <td>6.268188</td>\n",
       "      <td>0.469821</td>\n",
       "    </tr>\n",
       "    <tr>\n",
       "      <th>Infubinol</th>\n",
       "      <td>52.884795</td>\n",
       "      <td>51.820584</td>\n",
       "      <td>43.128684</td>\n",
       "      <td>6.567243</td>\n",
       "      <td>0.492236</td>\n",
       "    </tr>\n",
       "    <tr>\n",
       "      <th>Ketapril</th>\n",
       "      <td>55.235638</td>\n",
       "      <td>53.698743</td>\n",
       "      <td>68.553577</td>\n",
       "      <td>8.279709</td>\n",
       "      <td>0.603860</td>\n",
       "    </tr>\n",
       "    <tr>\n",
       "      <th>Naftisol</th>\n",
       "      <td>54.331565</td>\n",
       "      <td>52.509285</td>\n",
       "      <td>66.173479</td>\n",
       "      <td>8.134708</td>\n",
       "      <td>0.596466</td>\n",
       "    </tr>\n",
       "    <tr>\n",
       "      <th>Placebo</th>\n",
       "      <td>54.033581</td>\n",
       "      <td>52.288934</td>\n",
       "      <td>61.168083</td>\n",
       "      <td>7.821003</td>\n",
       "      <td>0.581331</td>\n",
       "    </tr>\n",
       "    <tr>\n",
       "      <th>Propriva</th>\n",
       "      <td>52.368318</td>\n",
       "      <td>50.909965</td>\n",
       "      <td>42.278090</td>\n",
       "      <td>6.502160</td>\n",
       "      <td>0.514041</td>\n",
       "    </tr>\n",
       "    <tr>\n",
       "      <th>Ramicane</th>\n",
       "      <td>40.216745</td>\n",
       "      <td>40.673236</td>\n",
       "      <td>23.486704</td>\n",
       "      <td>4.846308</td>\n",
       "      <td>0.320955</td>\n",
       "    </tr>\n",
       "    <tr>\n",
       "      <th>Stelasyn</th>\n",
       "      <td>54.233149</td>\n",
       "      <td>52.431737</td>\n",
       "      <td>59.450562</td>\n",
       "      <td>7.710419</td>\n",
       "      <td>0.573111</td>\n",
       "    </tr>\n",
       "    <tr>\n",
       "      <th>Zoniferol</th>\n",
       "      <td>53.236507</td>\n",
       "      <td>51.818479</td>\n",
       "      <td>48.533355</td>\n",
       "      <td>6.966589</td>\n",
       "      <td>0.516398</td>\n",
       "    </tr>\n",
       "  </tbody>\n",
       "</table>\n",
       "</div>"
      ],
      "text/plain": [
       "              Mean Tumor Volume  Median Tumor Volume  Tumor Volume Variance  \\\n",
       "Drug Regimen                                                                  \n",
       "Capomulin             40.675741            41.557809              24.947764   \n",
       "Ceftamin              52.591172            51.776157              39.290177   \n",
       "Infubinol             52.884795            51.820584              43.128684   \n",
       "Ketapril              55.235638            53.698743              68.553577   \n",
       "Naftisol              54.331565            52.509285              66.173479   \n",
       "Placebo               54.033581            52.288934              61.168083   \n",
       "Propriva              52.368318            50.909965              42.278090   \n",
       "Ramicane              40.216745            40.673236              23.486704   \n",
       "Stelasyn              54.233149            52.431737              59.450562   \n",
       "Zoniferol             53.236507            51.818479              48.533355   \n",
       "\n",
       "              Tumor Volume Standard Deviation  Tumor Volume SEM  \n",
       "Drug Regimen                                                     \n",
       "Capomulin                            4.994774          0.329346  \n",
       "Ceftamin                             6.268188          0.469821  \n",
       "Infubinol                            6.567243          0.492236  \n",
       "Ketapril                             8.279709          0.603860  \n",
       "Naftisol                             8.134708          0.596466  \n",
       "Placebo                              7.821003          0.581331  \n",
       "Propriva                             6.502160          0.514041  \n",
       "Ramicane                             4.846308          0.320955  \n",
       "Stelasyn                             7.710419          0.573111  \n",
       "Zoniferol                            6.966589          0.516398  "
      ]
     },
     "execution_count": 17,
     "metadata": {},
     "output_type": "execute_result"
    }
   ],
   "source": [
    "# Generate a summary statistics table of mean, median, variance, standard deviation, and SEM of the tumor volume for each regimen\n",
    "regimen_volume_clean_groupby=clean_df[[\"Drug Regimen\", \"tumor_volume\"]].groupby(\"Drug Regimen\")\n",
    "tumor_volume_mean=regimen_volume_clean_groupby[\"tumor_volume\"].mean()\n",
    "tumor_volume_median=regimen_volume_clean_groupby[\"tumor_volume\"].median()\n",
    "tumor_volume_variance=regimen_volume_clean_groupby[\"tumor_volume\"].var()\n",
    "tumor_volume_standard_deviation=regimen_volume_clean_groupby[\"tumor_volume\"].std()\n",
    "tumor_volume_SEM=regimen_volume_clean_groupby[\"tumor_volume\"].sem()\n",
    "drug_regimen_df=pd.DataFrame({\"Mean Tumor Volume\":tumor_volume_mean,\"Median Tumor Volume\":tumor_volume_median,\"Tumor Volume Variance\":tumor_volume_variance,\"Tumor Volume Standard Deviation\":tumor_volume_standard_deviation,\"Tumor Volume SEM\":tumor_volume_SEM})\n",
    "drug_regimen_df"
   ]
  },
  {
   "cell_type": "code",
   "execution_count": 18,
   "metadata": {},
   "outputs": [
    {
     "data": {
      "text/html": [
       "<div>\n",
       "<style scoped>\n",
       "    .dataframe tbody tr th:only-of-type {\n",
       "        vertical-align: middle;\n",
       "    }\n",
       "\n",
       "    .dataframe tbody tr th {\n",
       "        vertical-align: top;\n",
       "    }\n",
       "\n",
       "    .dataframe thead tr th {\n",
       "        text-align: left;\n",
       "    }\n",
       "\n",
       "    .dataframe thead tr:last-of-type th {\n",
       "        text-align: right;\n",
       "    }\n",
       "</style>\n",
       "<table border=\"1\" class=\"dataframe\">\n",
       "  <thead>\n",
       "    <tr>\n",
       "      <th></th>\n",
       "      <th colspan=\"5\" halign=\"left\">tumor_volume</th>\n",
       "    </tr>\n",
       "    <tr>\n",
       "      <th></th>\n",
       "      <th>mean</th>\n",
       "      <th>median</th>\n",
       "      <th>var</th>\n",
       "      <th>std</th>\n",
       "      <th>sem</th>\n",
       "    </tr>\n",
       "    <tr>\n",
       "      <th>Drug Regimen</th>\n",
       "      <th></th>\n",
       "      <th></th>\n",
       "      <th></th>\n",
       "      <th></th>\n",
       "      <th></th>\n",
       "    </tr>\n",
       "  </thead>\n",
       "  <tbody>\n",
       "    <tr>\n",
       "      <th>Capomulin</th>\n",
       "      <td>40.675741</td>\n",
       "      <td>41.557809</td>\n",
       "      <td>24.947764</td>\n",
       "      <td>4.994774</td>\n",
       "      <td>0.329346</td>\n",
       "    </tr>\n",
       "    <tr>\n",
       "      <th>Ceftamin</th>\n",
       "      <td>52.591172</td>\n",
       "      <td>51.776157</td>\n",
       "      <td>39.290177</td>\n",
       "      <td>6.268188</td>\n",
       "      <td>0.469821</td>\n",
       "    </tr>\n",
       "    <tr>\n",
       "      <th>Infubinol</th>\n",
       "      <td>52.884795</td>\n",
       "      <td>51.820584</td>\n",
       "      <td>43.128684</td>\n",
       "      <td>6.567243</td>\n",
       "      <td>0.492236</td>\n",
       "    </tr>\n",
       "    <tr>\n",
       "      <th>Ketapril</th>\n",
       "      <td>55.235638</td>\n",
       "      <td>53.698743</td>\n",
       "      <td>68.553577</td>\n",
       "      <td>8.279709</td>\n",
       "      <td>0.603860</td>\n",
       "    </tr>\n",
       "    <tr>\n",
       "      <th>Naftisol</th>\n",
       "      <td>54.331565</td>\n",
       "      <td>52.509285</td>\n",
       "      <td>66.173479</td>\n",
       "      <td>8.134708</td>\n",
       "      <td>0.596466</td>\n",
       "    </tr>\n",
       "    <tr>\n",
       "      <th>Placebo</th>\n",
       "      <td>54.033581</td>\n",
       "      <td>52.288934</td>\n",
       "      <td>61.168083</td>\n",
       "      <td>7.821003</td>\n",
       "      <td>0.581331</td>\n",
       "    </tr>\n",
       "    <tr>\n",
       "      <th>Propriva</th>\n",
       "      <td>52.368318</td>\n",
       "      <td>50.909965</td>\n",
       "      <td>42.278090</td>\n",
       "      <td>6.502160</td>\n",
       "      <td>0.514041</td>\n",
       "    </tr>\n",
       "    <tr>\n",
       "      <th>Ramicane</th>\n",
       "      <td>40.216745</td>\n",
       "      <td>40.673236</td>\n",
       "      <td>23.486704</td>\n",
       "      <td>4.846308</td>\n",
       "      <td>0.320955</td>\n",
       "    </tr>\n",
       "    <tr>\n",
       "      <th>Stelasyn</th>\n",
       "      <td>54.233149</td>\n",
       "      <td>52.431737</td>\n",
       "      <td>59.450562</td>\n",
       "      <td>7.710419</td>\n",
       "      <td>0.573111</td>\n",
       "    </tr>\n",
       "    <tr>\n",
       "      <th>Zoniferol</th>\n",
       "      <td>53.236507</td>\n",
       "      <td>51.818479</td>\n",
       "      <td>48.533355</td>\n",
       "      <td>6.966589</td>\n",
       "      <td>0.516398</td>\n",
       "    </tr>\n",
       "  </tbody>\n",
       "</table>\n",
       "</div>"
      ],
      "text/plain": [
       "             tumor_volume                                          \n",
       "                     mean     median        var       std       sem\n",
       "Drug Regimen                                                       \n",
       "Capomulin       40.675741  41.557809  24.947764  4.994774  0.329346\n",
       "Ceftamin        52.591172  51.776157  39.290177  6.268188  0.469821\n",
       "Infubinol       52.884795  51.820584  43.128684  6.567243  0.492236\n",
       "Ketapril        55.235638  53.698743  68.553577  8.279709  0.603860\n",
       "Naftisol        54.331565  52.509285  66.173479  8.134708  0.596466\n",
       "Placebo         54.033581  52.288934  61.168083  7.821003  0.581331\n",
       "Propriva        52.368318  50.909965  42.278090  6.502160  0.514041\n",
       "Ramicane        40.216745  40.673236  23.486704  4.846308  0.320955\n",
       "Stelasyn        54.233149  52.431737  59.450562  7.710419  0.573111\n",
       "Zoniferol       53.236507  51.818479  48.533355  6.966589  0.516398"
      ]
     },
     "execution_count": 18,
     "metadata": {},
     "output_type": "execute_result"
    }
   ],
   "source": [
    "# Using the aggregation method, produce the same summary statistics in a single line\n",
    "drug_regimen_agg_df=regimen_volume_clean_groupby.agg({\"tumor_volume\":[\"mean\",\"median\", \"var\", \"std\", \"sem\"]})\n",
    "drug_regimen_agg_df"
   ]
  },
  {
   "cell_type": "code",
   "execution_count": 19,
   "metadata": {},
   "outputs": [
    {
     "data": {
      "text/plain": [
       "Text(0.5, 0, 'Regimens')"
      ]
     },
     "execution_count": 19,
     "metadata": {},
     "output_type": "execute_result"
    },
    {
     "data": {
      "image/png": "[encoded data removed]",
      "text/plain": [
       "<Figure size 432x288 with 1 Axes>"
      ]
     },
     "metadata": {
      "needs_background": "light"
     },
     "output_type": "display_data"
    }
   ],
   "source": [
    "# Generate a bar plot showing the total number of measurements taken on each drug regimen using pandas.\n",
    "# Create a df with the appropriate columns and groupby the regimen\n",
    "mice_per_regimen=clean_df[[\"Mouse ID\", \"Drug Regimen\"]].groupby(\"Drug Regimen\").count()\n",
    "# Plot\n",
    "my_plot = mice_per_regimen.plot(kind=\"bar\")\n",
    "# Set textual properties\n",
    "plt.title(\"Mice per Regimen\")\n",
    "plt.ylabel(\"Number of Mice\")\n",
    "plt.xlabel(\"Regimens\")"
   ]
  },
  {
   "cell_type": "code",
   "execution_count": 20,
   "metadata": {},
   "outputs": [
    {
     "data": {
      "text/plain": [
       "Text(0, 0.5, 'Number of Mice')"
      ]
     },
     "execution_count": 20,
     "metadata": {},
     "output_type": "execute_result"
    },
    {
     "data": {
      "image/png": "[encoded data removed]",
      "text/plain": [
       "<Figure size 432x288 with 1 Axes>"
      ]
     },
     "metadata": {
      "needs_background": "light"
     },
     "output_type": "display_data"
    }
   ],
   "source": [
    "# Generate a bar plot showing the total number of measurements taken on each drug regimen using pyplot.\n",
    "#create a variable holding the names of the regimens\n",
    "regimens=clean_df[\"Drug Regimen\"].unique()\n",
    "#create an array containing the number of mice receiving each treatment\n",
    "mice_per_regimen_series=mice_per_regimen[\"Mouse ID\"]\n",
    "mice_per_regimen_array=pd.Series(mice_per_regimen_series).array\n",
    "x_axis=np.arange(len(mice_per_regimen))\n",
    "tick_locations=[value for value in x_axis]\n",
    "#Create a bar chart using matplotlib\n",
    "#use \"x_axis\" as the x axis and \"mice_per_regimen_array\" as the y axis\n",
    "#use blue and align to center\n",
    "plt.bar(x_axis, mice_per_regimen[\"Mouse ID\"], color=\"b\",align=\"center\")\n",
    "#set x axis headers\n",
    "tick_locations=[value for value in x_axis]\n",
    "#use the \"regimens\" variable as the labels\n",
    "plt.xticks(tick_locations, mice_per_regimen.index, rotation=90)\n",
    "#set x limits\n",
    "plt.xlim(-0.75, len(x_axis))\n",
    "#set y limits\n",
    "plt.ylim(-0.75,300)\n",
    "#label the chart\n",
    "plt.title(\"Mice Per Regimen\")\n",
    "plt.xlabel(\"Regimens\")\n",
    "plt.ylabel(\"Number of Mice\")"
   ]
  },
  {
   "cell_type": "code",
   "execution_count": 21,
   "metadata": {},
   "outputs": [
    {
     "data": {
      "image/png": "[encoded data removed]",
      "text/plain": [
       "<Figure size 432x288 with 1 Axes>"
      ]
     },
     "metadata": {},
     "output_type": "display_data"
    }
   ],
   "source": [
    "# Generate a pie plot showing the distribution of female versus male mice using pandas\n",
    "id_sex_df=clean_df[[\"Mouse ID\", \"Sex\"]].groupby(\"Sex\").count()\n",
    "id_sex_df\n",
    "pie_plot=id_sex_df.plot(subplots=True,kind=\"pie\",autopct=\"%.0f%%\")\n",
    "plt.show()"
   ]
  },
  {
   "cell_type": "code",
   "execution_count": 22,
   "metadata": {},
   "outputs": [
    {
     "data": {
      "text/plain": [
       "([<matplotlib.patches.Wedge at 0x231900860a0>,\n",
       "  <matplotlib.patches.Wedge at 0x231900869d0>],\n",
       " [Text(-0.7237151467475075, -0.8283938594462383, 'Female'),\n",
       "  Text(0.7237152243073345, 0.8283937916871327, 'Male')],\n",
       " [Text(-0.3947537164077313, -0.45185119606158447, '49%'),\n",
       "  Text(0.39475375871309154, 0.4518511591020723, '51%')])"
      ]
     },
     "execution_count": 22,
     "metadata": {},
     "output_type": "execute_result"
    },
    {
     "data": {
      "image/png": "[encoded data removed]",
      "text/plain": [
       "<Figure size 432x288 with 1 Axes>"
      ]
     },
     "metadata": {},
     "output_type": "display_data"
    }
   ],
   "source": [
    "# Generate a bar plot showing the total number of measurements taken on each drug regimen using pyplot.\n",
    "categories=id_sex_df[\"Mouse ID\"]\n",
    "colors=[\"red\",\"blue\"]\n",
    "plt.pie(categories, labels=id_sex_df.index, colors=colors,autopct=\"%1.0f%%\",shadow=True,startangle=140)"
   ]
  },
  {
   "cell_type": "code",
   "execution_count": 52,
   "metadata": {},
   "outputs": [],
   "source": [
    "#Stuff from Kevin for finding max timepoint\n",
    "max_timepoint=clean_df.groupby(\"Mouse ID\")[\"Timepoint\"].max()\n",
    "max_timepoint_df=pd.merge(max_timepoint,clean_df,on=[\"Mouse ID\",\"Timepoint\"])\n",
    "promising_treatments_df=max_timepoint_df.loc[(max_timepoint_df[\"Drug Regimen\"] == \"Capomulin\")|(max_timepoint_df[\"Drug Regimen\"] == \"Ramicane\")|(max_timepoint_df[\"Drug Regimen\"] == \"Infubinol\")|(max_timepoint_df[\"Drug Regimen\"] == \"Ceftamin\")]\n",
    "promising_treatments_df=promising_treatments_df.rename(columns={\"tumor_volume\":\"Final Tumor Volume\"})"
   ]
  },
  {
   "cell_type": "code",
   "execution_count": 44,
   "metadata": {},
   "outputs": [],
   "source": [
    "# # Calculate the final tumor volume of each mouse across four of the treatment regimens:  \n",
    "# # Capomulin, Ramicane, Infubinol, and Ceftamin\n",
    "# final_tumor_volume_df=clean_df[[\"Mouse ID\",\"Drug Regimen\",\"Timepoint\",\"tumor_volume\"]]\n",
    "# # Start by getting the last (greatest) timepoint for each mouse\n",
    "# max_timepoint=final_tumor_volume_df[\"Timepoint\"].max()\n",
    "# final_tumor_volume_max_timepoint_df=final_tumor_volume_df.loc[final_tumor_volume_df[\"Timepoint\"]==max_timepoint]\n",
    "# promising_treatments_df=final_tumor_volume_max_timepoint_df[(final_tumor_volume_max_timepoint_df[\"Drug Regimen\"] == \"Capomulin\")|(final_tumor_volume_max_timepoint_df[\"Drug Regimen\"] == \"Ramicane\")|(final_tumor_volume_max_timepoint_df[\"Drug Regimen\"] == \"Infubinol\")|(final_tumor_volume_max_timepoint_df[\"Drug Regimen\"] == \"Ceftamin\")]\n",
    "# promising_treatments_df.rename(columns={\"tumor_volume\":\"Final Tumor Volume\"})"
   ]
  },
  {
   "cell_type": "code",
   "execution_count": 45,
   "metadata": {},
   "outputs": [],
   "source": [
    "# # Merge this group df with the original dataframe to get the tumor volume at the last timepoint\n",
    "# merged_df=pd.merge(drug_regimen_df,promising_treatments_df,how=\"right\",on=[\"Drug Regimen\"])\n",
    "# merged_df2=merged_df.rename(columns={\"tumor_volume\":\"Final Tumor Volume\"})\n",
    "# merged_df2.info()"
   ]
  },
  {
   "cell_type": "code",
   "execution_count": 46,
   "metadata": {},
   "outputs": [],
   "source": [
    "# final_tumor_volume_by_regimen_df=merged_df.groupby(\"Drug Regimen\").count()\n",
    "# final_tumor_volume_by_regimen_df2=final_tumor_volume_by_regimen_df.rename(columns={\"tumor_volume\":\"Final Tumor Volume\"}).set_index(\"Drug Regimen\")\n",
    "# final_tumor_volume_by_regimen_df2\n",
    "# final_tumor_volume_by_regimen_df\n",
    "# final_tumor_volume_by_regimen_df = pd.DataFrame({'count' : merged_df2.groupby([\"Drug Regimen\", \"Final Tumor Volume\"]).size()}).reset_index()\n",
    "# final_tumor_volume_by_regimen_df\n",
    "# print(final_tumor_volume_by_regimen_df.to_string())"
   ]
  },
  {
   "cell_type": "code",
   "execution_count": 47,
   "metadata": {},
   "outputs": [
    {
     "data": {
      "text/plain": [
       "array(['Infubinol', 'Ceftamin', 'Ramicane', 'Capomulin'], dtype=object)"
      ]
     },
     "execution_count": 47,
     "metadata": {},
     "output_type": "execute_result"
    }
   ],
   "source": [
    "# Put treatments into a list for for loop (and later for plot labels)\n",
    "promising_regimens=promising_treatments_df[\"Drug Regimen\"].unique()\n",
    "promising_regimens"
   ]
  },
  {
   "cell_type": "code",
   "execution_count": 53,
   "metadata": {},
   "outputs": [
    {
     "data": {
      "text/plain": [
       "[0      67.973419\n",
       " 1      65.525743\n",
       " 11     57.031862\n",
       " 13     66.083066\n",
       " 27     72.226731\n",
       " 31     36.321346\n",
       " 41     60.969711\n",
       " 50     62.435404\n",
       " 56     60.918767\n",
       " 79     67.289621\n",
       " 98     66.196912\n",
       " 102    62.117279\n",
       " 124    47.010364\n",
       " 130    60.165180\n",
       " 142    55.629428\n",
       " 143    45.699331\n",
       " 154    54.656549\n",
       " 171    55.650681\n",
       " 198    46.250112\n",
       " 201    54.048608\n",
       " 203    51.542431\n",
       " 212    50.005138\n",
       " 217    58.268442\n",
       " 234    67.685569\n",
       " 246    62.754451\n",
       " Name: Final Tumor Volume, dtype: float64,\n",
       " 3      62.999356\n",
       " 21     45.000000\n",
       " 22     56.057749\n",
       " 25     55.742829\n",
       " 58     48.722078\n",
       " 76     47.784682\n",
       " 89     61.849023\n",
       " 95     68.923185\n",
       " 107    67.748662\n",
       " 108    57.918381\n",
       " 110    46.784535\n",
       " 111    59.851956\n",
       " 114    64.299830\n",
       " 135    59.741901\n",
       " 151    61.433892\n",
       " 155    64.192341\n",
       " 185    45.000000\n",
       " 189    52.925348\n",
       " 190    45.000000\n",
       " 210    67.527482\n",
       " 224    45.000000\n",
       " 229    64.634949\n",
       " 232    61.386660\n",
       " 239    68.594745\n",
       " 241    64.729837\n",
       " Name: Final Tumor Volume, dtype: float64,\n",
       " 6      38.407618\n",
       " 7      43.047543\n",
       " 10     38.810366\n",
       " 12     32.978522\n",
       " 33     38.342008\n",
       " 37     33.397653\n",
       " 45     37.311236\n",
       " 52     40.659006\n",
       " 70     29.128472\n",
       " 77     33.562402\n",
       " 78     36.374510\n",
       " 92     31.560470\n",
       " 94     36.134852\n",
       " 97     22.050126\n",
       " 120    30.564625\n",
       " 127    31.095335\n",
       " 158    45.220869\n",
       " 159    36.561652\n",
       " 167    37.225650\n",
       " 169    43.419381\n",
       " 178    30.276232\n",
       " 191    40.667713\n",
       " 218    43.166373\n",
       " 236    44.183451\n",
       " 245    30.638696\n",
       " Name: Final Tumor Volume, dtype: float64,\n",
       " 19     38.982878\n",
       " 24     38.939633\n",
       " 61     30.485985\n",
       " 64     37.074024\n",
       " 66     40.159220\n",
       " 81     47.685963\n",
       " 84     37.311846\n",
       " 86     38.125164\n",
       " 88     38.753265\n",
       " 109    41.483008\n",
       " 116    38.846876\n",
       " 122    28.430964\n",
       " 125    33.329098\n",
       " 163    46.539206\n",
       " 164    32.377357\n",
       " 170    41.581521\n",
       " 175    23.343598\n",
       " 181    40.728578\n",
       " 184    34.455298\n",
       " 193    31.023923\n",
       " 205    40.658124\n",
       " 209    39.952347\n",
       " 221    36.041047\n",
       " 227    28.484033\n",
       " 240    31.896238\n",
       " Name: Final Tumor Volume, dtype: float64]"
      ]
     },
     "execution_count": 53,
     "metadata": {},
     "output_type": "execute_result"
    }
   ],
   "source": [
    "# Create empty list to fill with tumor vol data (for plotting)\n",
    "tumor_volume_list=[]\n",
    "for drug in promising_regimens:\n",
    "    final_tumor_vol=promising_treatments_df.loc[promising_treatments_df[\"Drug Regimen\"]==drug, \"Final Tumor Volume\"]\n",
    "    tumor_volume_list.append(final_tumor_vol)\n",
    "tumor_volume_list"
   ]
  },
  {
   "cell_type": "code",
   "execution_count": 57,
   "metadata": {},
   "outputs": [],
   "source": [
    "# Calculate the IQR and quantitatively determine if there are any potential outliers.\n",
    "# Locate the rows which contain mice on each drug and get the tumor volumes\n",
    "# Determine outliers using upper and lower bounds\n",
    "\n",
    "#Create dfs for each promising regimen\n",
    "ramicane_df=promising_treatments_df.loc[promising_treatments_df[\"Drug Regimen\"]==\"Ramicane\"]\n",
    "capomulin_df=promising_treatments_df.loc[promising_treatments_df[\"Drug Regimen\"]==\"Capomulin\"]\n",
    "infubinol_df=promising_treatments_df.loc[promising_treatments_df[\"Drug Regimen\"]==\"Infubinol\"]\n",
    "ceftamin_df=promising_treatments_df.loc[promising_treatments_df[\"Drug Regimen\"]==\"Ceftamin\"]\n",
    "\n",
    "\n",
    "\n",
    "\n",
    "    "
   ]
  },
  {
   "cell_type": "code",
   "execution_count": 66,
   "metadata": {},
   "outputs": [
    {
     "name": "stdout",
     "output_type": "stream",
     "text": [
      "Lowerq:31.56046955\n",
      "Upperq:40.65900627\n",
      "The IQR is: 9.098536719999998\n",
      "LowerBound:17.912664470000003\n",
      "UpperBound:54.30681135\n"
     ]
    },
    {
     "data": {
      "text/html": [
       "<div>\n",
       "<style scoped>\n",
       "    .dataframe tbody tr th:only-of-type {\n",
       "        vertical-align: middle;\n",
       "    }\n",
       "\n",
       "    .dataframe tbody tr th {\n",
       "        vertical-align: top;\n",
       "    }\n",
       "\n",
       "    .dataframe thead th {\n",
       "        text-align: right;\n",
       "    }\n",
       "</style>\n",
       "<table border=\"1\" class=\"dataframe\">\n",
       "  <thead>\n",
       "    <tr style=\"text-align: right;\">\n",
       "      <th></th>\n",
       "      <th>Mouse ID</th>\n",
       "      <th>Timepoint</th>\n",
       "      <th>Drug Regimen</th>\n",
       "      <th>Sex</th>\n",
       "      <th>Age_months</th>\n",
       "      <th>Weight (g)</th>\n",
       "      <th>Final Tumor Volume</th>\n",
       "      <th>Metastatic Sites</th>\n",
       "    </tr>\n",
       "  </thead>\n",
       "  <tbody>\n",
       "  </tbody>\n",
       "</table>\n",
       "</div>"
      ],
      "text/plain": [
       "Empty DataFrame\n",
       "Columns: [Mouse ID, Timepoint, Drug Regimen, Sex, Age_months, Weight (g), Final Tumor Volume, Metastatic Sites]\n",
       "Index: []"
      ]
     },
     "execution_count": 66,
     "metadata": {},
     "output_type": "execute_result"
    }
   ],
   "source": [
    "# Ramicane\n",
    "final_ramicane_tumor_volume=ramicane_df[\"Final Tumor Volume\"]\n",
    "quartiles=final_ramicane_tumor_volume.quantile([.25,.5,.75])\n",
    "lowerq=quartiles[0.25]\n",
    "upperq=quartiles[.75]\n",
    "print(f\"Lowerq:{lowerq}\")\n",
    "print(f\"Upperq:{upperq}\")\n",
    "iqr=upperq - lowerq\n",
    "lower_bound=lowerq-(1.5*iqr)\n",
    "upper_bound=upperq+(1.5*iqr)\n",
    "print(f\"The IQR is: {iqr}\")\n",
    "print(f\"LowerBound:{lower_bound}\")\n",
    "print(f\"UpperBound:{upper_bound}\")\n",
    "outliers=ramicane_df.loc[(ramicane_df['Final Tumor Volume'] < lower_bound) | (ramicane_df['Final Tumor Volume'] > upper_bound)]\n",
    "outliers"
   ]
  },
  {
   "cell_type": "code",
   "execution_count": 65,
   "metadata": {},
   "outputs": [
    {
     "name": "stdout",
     "output_type": "stream",
     "text": [
      "Lowerq:32.37735684\n",
      "Upperq:40.1592203\n",
      "The IQR is: 7.781863460000004\n",
      "LowerBound:20.70456164999999\n",
      "UpperBound:51.83201549\n"
     ]
    },
    {
     "data": {
      "text/html": [
       "<div>\n",
       "<style scoped>\n",
       "    .dataframe tbody tr th:only-of-type {\n",
       "        vertical-align: middle;\n",
       "    }\n",
       "\n",
       "    .dataframe tbody tr th {\n",
       "        vertical-align: top;\n",
       "    }\n",
       "\n",
       "    .dataframe thead th {\n",
       "        text-align: right;\n",
       "    }\n",
       "</style>\n",
       "<table border=\"1\" class=\"dataframe\">\n",
       "  <thead>\n",
       "    <tr style=\"text-align: right;\">\n",
       "      <th></th>\n",
       "      <th>Mouse ID</th>\n",
       "      <th>Timepoint</th>\n",
       "      <th>Drug Regimen</th>\n",
       "      <th>Sex</th>\n",
       "      <th>Age_months</th>\n",
       "      <th>Weight (g)</th>\n",
       "      <th>Final Tumor Volume</th>\n",
       "      <th>Metastatic Sites</th>\n",
       "    </tr>\n",
       "  </thead>\n",
       "  <tbody>\n",
       "  </tbody>\n",
       "</table>\n",
       "</div>"
      ],
      "text/plain": [
       "Empty DataFrame\n",
       "Columns: [Mouse ID, Timepoint, Drug Regimen, Sex, Age_months, Weight (g), Final Tumor Volume, Metastatic Sites]\n",
       "Index: []"
      ]
     },
     "execution_count": 65,
     "metadata": {},
     "output_type": "execute_result"
    }
   ],
   "source": [
    "# Capomulin\n",
    "final_capomulin_tumor_volume=capomulin_df[\"Final Tumor Volume\"]\n",
    "quartiles=final_capomulin_tumor_volume.quantile([.25,.5,.75])\n",
    "lowerq=quartiles[0.25]\n",
    "upperq=quartiles[.75]\n",
    "print(f\"Lowerq:{lowerq}\")\n",
    "print(f\"Upperq:{upperq}\")\n",
    "iqr=upperq - lowerq\n",
    "lower_bound=lowerq-(1.5*iqr)\n",
    "upper_bound=upperq+(1.5*iqr)\n",
    "print(f\"The IQR is: {iqr}\")\n",
    "print(f\"LowerBound:{lower_bound}\")\n",
    "print(f\"UpperBound:{upper_bound}\")\n",
    "outliers=capomulin_df.loc[(capomulin_df['Final Tumor Volume'] < lower_bound) | (capomulin_df['Final Tumor Volume'] > upper_bound)]\n",
    "outliers"
   ]
  },
  {
   "cell_type": "code",
   "execution_count": 64,
   "metadata": {},
   "outputs": [
    {
     "name": "stdout",
     "output_type": "stream",
     "text": [
      "Lowerq:54.04860769\n",
      "Upperq:65.52574285\n",
      "The IQR is: 11.477135160000003\n",
      "LowerBound:36.83290494999999\n",
      "UpperBound:82.74144559000001\n"
     ]
    },
    {
     "data": {
      "text/html": [
       "<div>\n",
       "<style scoped>\n",
       "    .dataframe tbody tr th:only-of-type {\n",
       "        vertical-align: middle;\n",
       "    }\n",
       "\n",
       "    .dataframe tbody tr th {\n",
       "        vertical-align: top;\n",
       "    }\n",
       "\n",
       "    .dataframe thead th {\n",
       "        text-align: right;\n",
       "    }\n",
       "</style>\n",
       "<table border=\"1\" class=\"dataframe\">\n",
       "  <thead>\n",
       "    <tr style=\"text-align: right;\">\n",
       "      <th></th>\n",
       "      <th>Mouse ID</th>\n",
       "      <th>Timepoint</th>\n",
       "      <th>Drug Regimen</th>\n",
       "      <th>Sex</th>\n",
       "      <th>Age_months</th>\n",
       "      <th>Weight (g)</th>\n",
       "      <th>Final Tumor Volume</th>\n",
       "      <th>Metastatic Sites</th>\n",
       "    </tr>\n",
       "  </thead>\n",
       "  <tbody>\n",
       "    <tr>\n",
       "      <th>31</th>\n",
       "      <td>c326</td>\n",
       "      <td>5</td>\n",
       "      <td>Infubinol</td>\n",
       "      <td>Female</td>\n",
       "      <td>18</td>\n",
       "      <td>25</td>\n",
       "      <td>36.321346</td>\n",
       "      <td>0</td>\n",
       "    </tr>\n",
       "  </tbody>\n",
       "</table>\n",
       "</div>"
      ],
      "text/plain": [
       "   Mouse ID  Timepoint Drug Regimen     Sex  Age_months  Weight (g)  \\\n",
       "31     c326          5    Infubinol  Female          18          25   \n",
       "\n",
       "    Final Tumor Volume  Metastatic Sites  \n",
       "31           36.321346                 0  "
      ]
     },
     "execution_count": 64,
     "metadata": {},
     "output_type": "execute_result"
    }
   ],
   "source": [
    "# Infubinol\n",
    "final_infubinol_tumor_volume=infubinol_df[\"Final Tumor Volume\"]\n",
    "quartiles=final_infubinol_tumor_volume.quantile([.25,.5,.75])\n",
    "lowerq=quartiles[0.25]\n",
    "upperq=quartiles[.75]\n",
    "print(f\"Lowerq:{lowerq}\")\n",
    "print(f\"Upperq:{upperq}\")\n",
    "iqr=upperq - lowerq\n",
    "lower_bound=lowerq-(1.5*iqr)\n",
    "upper_bound=upperq+(1.5*iqr)\n",
    "print(f\"The IQR is: {iqr}\")\n",
    "print(f\"LowerBound:{lower_bound}\")\n",
    "print(f\"UpperBound:{upper_bound}\")\n",
    "outliers=infubinol_df.loc[(infubinol_df['Final Tumor Volume'] < lower_bound) | (infubinol_df['Final Tumor Volume'] > upper_bound)]\n",
    "outliers"
   ]
  },
  {
   "cell_type": "code",
   "execution_count": 68,
   "metadata": {},
   "outputs": [
    {
     "name": "stdout",
     "output_type": "stream",
     "text": [
      "Lowerq:48.72207785\n",
      "Upperq:64.29983003\n",
      "The IQR is: 15.577752179999997\n",
      "LowerBound:25.355449580000002\n",
      "UpperBound:87.66645829999999\n"
     ]
    },
    {
     "data": {
      "text/html": [
       "<div>\n",
       "<style scoped>\n",
       "    .dataframe tbody tr th:only-of-type {\n",
       "        vertical-align: middle;\n",
       "    }\n",
       "\n",
       "    .dataframe tbody tr th {\n",
       "        vertical-align: top;\n",
       "    }\n",
       "\n",
       "    .dataframe thead th {\n",
       "        text-align: right;\n",
       "    }\n",
       "</style>\n",
       "<table border=\"1\" class=\"dataframe\">\n",
       "  <thead>\n",
       "    <tr style=\"text-align: right;\">\n",
       "      <th></th>\n",
       "      <th>Mouse ID</th>\n",
       "      <th>Timepoint</th>\n",
       "      <th>Drug Regimen</th>\n",
       "      <th>Sex</th>\n",
       "      <th>Age_months</th>\n",
       "      <th>Weight (g)</th>\n",
       "      <th>Final Tumor Volume</th>\n",
       "      <th>Metastatic Sites</th>\n",
       "    </tr>\n",
       "  </thead>\n",
       "  <tbody>\n",
       "  </tbody>\n",
       "</table>\n",
       "</div>"
      ],
      "text/plain": [
       "Empty DataFrame\n",
       "Columns: [Mouse ID, Timepoint, Drug Regimen, Sex, Age_months, Weight (g), Final Tumor Volume, Metastatic Sites]\n",
       "Index: []"
      ]
     },
     "execution_count": 68,
     "metadata": {},
     "output_type": "execute_result"
    }
   ],
   "source": [
    "# Ceftamin\n",
    "final_ceftamin_tumor_volume=ceftamin_df[\"Final Tumor Volume\"]\n",
    "quartiles=final_ceftamin_tumor_volume.quantile([.25,.5,.75])\n",
    "lowerq=quartiles[0.25]\n",
    "upperq=quartiles[.75]\n",
    "print(f\"Lowerq:{lowerq}\")\n",
    "print(f\"Upperq:{upperq}\")\n",
    "iqr=upperq - lowerq\n",
    "lower_bound=lowerq-(1.5*iqr)\n",
    "upper_bound=upperq+(1.5*iqr)\n",
    "print(f\"The IQR is: {iqr}\")\n",
    "print(f\"LowerBound:{lower_bound}\")\n",
    "print(f\"UpperBound:{upper_bound}\")\n",
    "outliers=ceftamin_df.loc[(ceftamin_df['Final Tumor Volume'] < lower_bound) | (ceftamin_df['Final Tumor Volume'] > upper_bound)]\n",
    "outliers"
   ]
  },
  {
   "cell_type": "code",
   "execution_count": 69,
   "metadata": {},
   "outputs": [
    {
     "data": {
      "text/plain": [
       "[Text(1, 0, 'Ramicane'),\n",
       " Text(2, 0, 'Capomulin'),\n",
       " Text(3, 0, 'Ceftamin'),\n",
       " Text(4, 0, 'Infubinol')]"
      ]
     },
     "execution_count": 69,
     "metadata": {},
     "output_type": "execute_result"
    },
    {
     "data": {
      "image/png": "[encoded data removed]",
      "text/plain": [
       "<Figure size 432x288 with 1 Axes>"
      ]
     },
     "metadata": {
      "needs_background": "light"
     },
     "output_type": "display_data"
    }
   ],
   "source": [
    "# Generate a box plot of the final tumor volume of each mouse across four regimens of interest\n",
    "fig, ax=plt.subplots()\n",
    "ax.set_title(\"Final Tumor Volume\")\n",
    "ax.boxplot([final_ramicane_tumor_volume,final_capomulin_tumor_volume,final_ceftamin_tumor_volume,final_infubinol_tumor_volume])\n",
    "ax.set_xticklabels([\"Ramicane\",\"Capomulin\",\"Ceftamin\",\"Infubinol\"])"
   ]
  },
  {
   "cell_type": "code",
   "execution_count": 70,
   "metadata": {},
   "outputs": [
    {
     "data": {
      "text/plain": [
       "<AxesSubplot:xlabel='Timepoint'>"
      ]
     },
     "execution_count": 70,
     "metadata": {},
     "output_type": "execute_result"
    },
    {
     "data": {
      "image/png": "[encoded data removed]",
      "text/plain": [
       "<Figure size 432x288 with 1 Axes>"
      ]
     },
     "metadata": {
      "needs_background": "light"
     },
     "output_type": "display_data"
    }
   ],
   "source": [
    "# Generate a line plot of tumor volume vs. time point for a mouse treated with Capomulin\n",
    "l509_df=df.loc[df[\"Mouse ID\"]==\"l509\"]\n",
    "l509_df_cleaned=l509_df[[\"Mouse ID\", \"tumor_volume\",\"Timepoint\"]]\n",
    "l509_df_cleaned.plot(\"Timepoint\")"
   ]
  },
  {
   "cell_type": "code",
   "execution_count": 73,
   "metadata": {},
   "outputs": [
    {
     "data": {
      "text/plain": [
       "<AxesSubplot:xlabel='Weight (g)', ylabel='Final Tumor Volume'>"
      ]
     },
     "execution_count": 73,
     "metadata": {},
     "output_type": "execute_result"
    },
    {
     "data": {
      "image/png": "[encoded data removed]",
      "text/plain": [
       "<Figure size 432x288 with 1 Axes>"
      ]
     },
     "metadata": {
      "needs_background": "light"
     },
     "output_type": "display_data"
    }
   ],
   "source": [
    "# Generate a scatter plot of average tumor volume vs. mouse weight for the Capomulin regimen\n",
    "# capomulin_df=df[df[\"Drug Regimen\"]==\"Capomulin\"]\n",
    "# capomulin_volume_weight_df=capomulin_df[[\"tumor_volume\",\"Weight (g)\"]]\n",
    "# avg_tumor_volume=capomulin_volume_weight_df[\"tumor_volume\"].mean()\n",
    "# mouse_weight=capomulin_volume_weight_df[\"Weight (g)\"]\n",
    "# scatter_df=pd.DataFrame({\"Volume\":avg_tumor_volume,\"Weight\":mouse_weight})\n",
    "# scatter_df.plot.scatter(\"Weight\",\"Volume\")\n",
    "weight_volume_df=capomulin_df[[\"Mouse ID\",\"Weight (g)\",\"Final Tumor Volume\"]]\n",
    "scatter_df=weight_volume_df.groupby(\"Mouse ID\").mean()\n",
    "scatter_df.plot.scatter(\"Weight (g)\",\"Final Tumor Volume\")"
   ]
  },
  {
   "cell_type": "code",
   "execution_count": null,
   "metadata": {},
   "outputs": [],
   "source": [
    "# Calculate the correlation coefficient and linear regression model "
   ]
  }
 ],
 "metadata": {
  "kernelspec": {
   "display_name": "Python 3",
   "language": "python",
   "name": "python3"
  },
  "language_info": {
   "codemirror_mode": {
    "name": "ipython",
    "version": 3
   },
   "file_extension": ".py",
   "mimetype": "text/x-python",
   "name": "python",
   "nbconvert_exporter": "python",
   "pygments_lexer": "ipython3",
   "version": "3.8.5"
  }
 },
 "nbformat": 4,
 "nbformat_minor": 4
}
